{
 "cells": [
  {
   "cell_type": "code",
   "execution_count": 1,
   "id": "3112cecb-cb88-4bf6-ad56-b5931bc4252d",
   "metadata": {},
   "outputs": [],
   "source": [
    "import numpy as np\n",
    "import pandas as pd\n",
    "import matplotlib.pyplot as plt\n",
    "import seaborn as sns"
   ]
  },
  {
   "cell_type": "code",
   "execution_count": 2,
   "id": "e3bfab16-ac0d-4bc9-b924-2e7b2beacdcf",
   "metadata": {},
   "outputs": [
    {
     "data": {
      "text/html": [
       "<div>\n",
       "<style scoped>\n",
       "    .dataframe tbody tr th:only-of-type {\n",
       "        vertical-align: middle;\n",
       "    }\n",
       "\n",
       "    .dataframe tbody tr th {\n",
       "        vertical-align: top;\n",
       "    }\n",
       "\n",
       "    .dataframe thead th {\n",
       "        text-align: right;\n",
       "    }\n",
       "</style>\n",
       "<table border=\"1\" class=\"dataframe\">\n",
       "  <thead>\n",
       "    <tr style=\"text-align: right;\">\n",
       "      <th></th>\n",
       "      <th>Loan_ID</th>\n",
       "      <th>Gender</th>\n",
       "      <th>Married</th>\n",
       "      <th>Dependents</th>\n",
       "      <th>Education</th>\n",
       "      <th>Self_Employed</th>\n",
       "      <th>Applicant_Income</th>\n",
       "      <th>Coapplicant_Income</th>\n",
       "      <th>Loan_Amount</th>\n",
       "      <th>Loan_Amount_Term</th>\n",
       "      <th>Credit_History</th>\n",
       "      <th>Property_Area</th>\n",
       "      <th>Loan_Status</th>\n",
       "    </tr>\n",
       "  </thead>\n",
       "  <tbody>\n",
       "    <tr>\n",
       "      <th>0</th>\n",
       "      <td>LP001002</td>\n",
       "      <td>Male</td>\n",
       "      <td>No</td>\n",
       "      <td>0</td>\n",
       "      <td>Graduate</td>\n",
       "      <td>No</td>\n",
       "      <td>5849</td>\n",
       "      <td>0.0</td>\n",
       "      <td>NaN</td>\n",
       "      <td>360.0</td>\n",
       "      <td>1.0</td>\n",
       "      <td>Urban</td>\n",
       "      <td>Y</td>\n",
       "    </tr>\n",
       "    <tr>\n",
       "      <th>1</th>\n",
       "      <td>LP001003</td>\n",
       "      <td>Male</td>\n",
       "      <td>Yes</td>\n",
       "      <td>1</td>\n",
       "      <td>Graduate</td>\n",
       "      <td>No</td>\n",
       "      <td>4583</td>\n",
       "      <td>1508.0</td>\n",
       "      <td>128.0</td>\n",
       "      <td>360.0</td>\n",
       "      <td>1.0</td>\n",
       "      <td>Rural</td>\n",
       "      <td>N</td>\n",
       "    </tr>\n",
       "    <tr>\n",
       "      <th>2</th>\n",
       "      <td>LP001005</td>\n",
       "      <td>Male</td>\n",
       "      <td>Yes</td>\n",
       "      <td>0</td>\n",
       "      <td>Graduate</td>\n",
       "      <td>Yes</td>\n",
       "      <td>3000</td>\n",
       "      <td>0.0</td>\n",
       "      <td>66.0</td>\n",
       "      <td>360.0</td>\n",
       "      <td>1.0</td>\n",
       "      <td>Urban</td>\n",
       "      <td>Y</td>\n",
       "    </tr>\n",
       "    <tr>\n",
       "      <th>3</th>\n",
       "      <td>LP001006</td>\n",
       "      <td>Male</td>\n",
       "      <td>Yes</td>\n",
       "      <td>0</td>\n",
       "      <td>Not Graduate</td>\n",
       "      <td>No</td>\n",
       "      <td>2583</td>\n",
       "      <td>2358.0</td>\n",
       "      <td>120.0</td>\n",
       "      <td>360.0</td>\n",
       "      <td>1.0</td>\n",
       "      <td>Urban</td>\n",
       "      <td>Y</td>\n",
       "    </tr>\n",
       "    <tr>\n",
       "      <th>4</th>\n",
       "      <td>LP001008</td>\n",
       "      <td>Male</td>\n",
       "      <td>No</td>\n",
       "      <td>0</td>\n",
       "      <td>Graduate</td>\n",
       "      <td>No</td>\n",
       "      <td>6000</td>\n",
       "      <td>0.0</td>\n",
       "      <td>141.0</td>\n",
       "      <td>360.0</td>\n",
       "      <td>1.0</td>\n",
       "      <td>Urban</td>\n",
       "      <td>Y</td>\n",
       "    </tr>\n",
       "    <tr>\n",
       "      <th>5</th>\n",
       "      <td>LP001011</td>\n",
       "      <td>Male</td>\n",
       "      <td>Yes</td>\n",
       "      <td>2</td>\n",
       "      <td>Graduate</td>\n",
       "      <td>Yes</td>\n",
       "      <td>5417</td>\n",
       "      <td>4196.0</td>\n",
       "      <td>267.0</td>\n",
       "      <td>360.0</td>\n",
       "      <td>1.0</td>\n",
       "      <td>Urban</td>\n",
       "      <td>Y</td>\n",
       "    </tr>\n",
       "    <tr>\n",
       "      <th>6</th>\n",
       "      <td>LP001013</td>\n",
       "      <td>Male</td>\n",
       "      <td>Yes</td>\n",
       "      <td>0</td>\n",
       "      <td>Not Graduate</td>\n",
       "      <td>No</td>\n",
       "      <td>2333</td>\n",
       "      <td>1516.0</td>\n",
       "      <td>95.0</td>\n",
       "      <td>360.0</td>\n",
       "      <td>1.0</td>\n",
       "      <td>Urban</td>\n",
       "      <td>Y</td>\n",
       "    </tr>\n",
       "    <tr>\n",
       "      <th>7</th>\n",
       "      <td>LP001014</td>\n",
       "      <td>Male</td>\n",
       "      <td>Yes</td>\n",
       "      <td>3+</td>\n",
       "      <td>Graduate</td>\n",
       "      <td>No</td>\n",
       "      <td>3036</td>\n",
       "      <td>2504.0</td>\n",
       "      <td>158.0</td>\n",
       "      <td>360.0</td>\n",
       "      <td>0.0</td>\n",
       "      <td>Semiurban</td>\n",
       "      <td>N</td>\n",
       "    </tr>\n",
       "    <tr>\n",
       "      <th>8</th>\n",
       "      <td>LP001018</td>\n",
       "      <td>Male</td>\n",
       "      <td>Yes</td>\n",
       "      <td>2</td>\n",
       "      <td>Graduate</td>\n",
       "      <td>No</td>\n",
       "      <td>4006</td>\n",
       "      <td>1526.0</td>\n",
       "      <td>168.0</td>\n",
       "      <td>360.0</td>\n",
       "      <td>1.0</td>\n",
       "      <td>Urban</td>\n",
       "      <td>Y</td>\n",
       "    </tr>\n",
       "    <tr>\n",
       "      <th>9</th>\n",
       "      <td>LP001020</td>\n",
       "      <td>Male</td>\n",
       "      <td>Yes</td>\n",
       "      <td>1</td>\n",
       "      <td>Graduate</td>\n",
       "      <td>No</td>\n",
       "      <td>12841</td>\n",
       "      <td>10968.0</td>\n",
       "      <td>349.0</td>\n",
       "      <td>360.0</td>\n",
       "      <td>1.0</td>\n",
       "      <td>Semiurban</td>\n",
       "      <td>N</td>\n",
       "    </tr>\n",
       "    <tr>\n",
       "      <th>10</th>\n",
       "      <td>LP001024</td>\n",
       "      <td>Male</td>\n",
       "      <td>Yes</td>\n",
       "      <td>2</td>\n",
       "      <td>Graduate</td>\n",
       "      <td>No</td>\n",
       "      <td>3200</td>\n",
       "      <td>700.0</td>\n",
       "      <td>70.0</td>\n",
       "      <td>360.0</td>\n",
       "      <td>1.0</td>\n",
       "      <td>Urban</td>\n",
       "      <td>Y</td>\n",
       "    </tr>\n",
       "    <tr>\n",
       "      <th>11</th>\n",
       "      <td>LP001027</td>\n",
       "      <td>Male</td>\n",
       "      <td>Yes</td>\n",
       "      <td>2</td>\n",
       "      <td>Graduate</td>\n",
       "      <td>NaN</td>\n",
       "      <td>2500</td>\n",
       "      <td>1840.0</td>\n",
       "      <td>109.0</td>\n",
       "      <td>360.0</td>\n",
       "      <td>1.0</td>\n",
       "      <td>Urban</td>\n",
       "      <td>Y</td>\n",
       "    </tr>\n",
       "    <tr>\n",
       "      <th>12</th>\n",
       "      <td>LP001028</td>\n",
       "      <td>Male</td>\n",
       "      <td>Yes</td>\n",
       "      <td>2</td>\n",
       "      <td>Graduate</td>\n",
       "      <td>No</td>\n",
       "      <td>3073</td>\n",
       "      <td>8106.0</td>\n",
       "      <td>200.0</td>\n",
       "      <td>360.0</td>\n",
       "      <td>1.0</td>\n",
       "      <td>Urban</td>\n",
       "      <td>Y</td>\n",
       "    </tr>\n",
       "    <tr>\n",
       "      <th>13</th>\n",
       "      <td>LP001029</td>\n",
       "      <td>Male</td>\n",
       "      <td>No</td>\n",
       "      <td>0</td>\n",
       "      <td>Graduate</td>\n",
       "      <td>No</td>\n",
       "      <td>1853</td>\n",
       "      <td>2840.0</td>\n",
       "      <td>114.0</td>\n",
       "      <td>360.0</td>\n",
       "      <td>1.0</td>\n",
       "      <td>Rural</td>\n",
       "      <td>N</td>\n",
       "    </tr>\n",
       "    <tr>\n",
       "      <th>14</th>\n",
       "      <td>LP001030</td>\n",
       "      <td>Male</td>\n",
       "      <td>Yes</td>\n",
       "      <td>2</td>\n",
       "      <td>Graduate</td>\n",
       "      <td>No</td>\n",
       "      <td>1299</td>\n",
       "      <td>1086.0</td>\n",
       "      <td>17.0</td>\n",
       "      <td>120.0</td>\n",
       "      <td>1.0</td>\n",
       "      <td>Urban</td>\n",
       "      <td>Y</td>\n",
       "    </tr>\n",
       "    <tr>\n",
       "      <th>15</th>\n",
       "      <td>LP001032</td>\n",
       "      <td>Male</td>\n",
       "      <td>No</td>\n",
       "      <td>0</td>\n",
       "      <td>Graduate</td>\n",
       "      <td>No</td>\n",
       "      <td>4950</td>\n",
       "      <td>0.0</td>\n",
       "      <td>125.0</td>\n",
       "      <td>360.0</td>\n",
       "      <td>1.0</td>\n",
       "      <td>Urban</td>\n",
       "      <td>Y</td>\n",
       "    </tr>\n",
       "    <tr>\n",
       "      <th>16</th>\n",
       "      <td>LP001034</td>\n",
       "      <td>Male</td>\n",
       "      <td>No</td>\n",
       "      <td>1</td>\n",
       "      <td>Not Graduate</td>\n",
       "      <td>No</td>\n",
       "      <td>3596</td>\n",
       "      <td>0.0</td>\n",
       "      <td>100.0</td>\n",
       "      <td>240.0</td>\n",
       "      <td>NaN</td>\n",
       "      <td>Urban</td>\n",
       "      <td>Y</td>\n",
       "    </tr>\n",
       "    <tr>\n",
       "      <th>17</th>\n",
       "      <td>LP001036</td>\n",
       "      <td>Female</td>\n",
       "      <td>No</td>\n",
       "      <td>0</td>\n",
       "      <td>Graduate</td>\n",
       "      <td>No</td>\n",
       "      <td>3510</td>\n",
       "      <td>0.0</td>\n",
       "      <td>76.0</td>\n",
       "      <td>360.0</td>\n",
       "      <td>0.0</td>\n",
       "      <td>Urban</td>\n",
       "      <td>N</td>\n",
       "    </tr>\n",
       "    <tr>\n",
       "      <th>18</th>\n",
       "      <td>LP001038</td>\n",
       "      <td>Male</td>\n",
       "      <td>Yes</td>\n",
       "      <td>0</td>\n",
       "      <td>Not Graduate</td>\n",
       "      <td>No</td>\n",
       "      <td>4887</td>\n",
       "      <td>0.0</td>\n",
       "      <td>133.0</td>\n",
       "      <td>360.0</td>\n",
       "      <td>1.0</td>\n",
       "      <td>Rural</td>\n",
       "      <td>N</td>\n",
       "    </tr>\n",
       "    <tr>\n",
       "      <th>19</th>\n",
       "      <td>LP001041</td>\n",
       "      <td>Male</td>\n",
       "      <td>Yes</td>\n",
       "      <td>0</td>\n",
       "      <td>Graduate</td>\n",
       "      <td>NaN</td>\n",
       "      <td>2600</td>\n",
       "      <td>3500.0</td>\n",
       "      <td>115.0</td>\n",
       "      <td>NaN</td>\n",
       "      <td>1.0</td>\n",
       "      <td>Urban</td>\n",
       "      <td>Y</td>\n",
       "    </tr>\n",
       "  </tbody>\n",
       "</table>\n",
       "</div>"
      ],
      "text/plain": [
       "     Loan_ID  Gender Married Dependents     Education Self_Employed  \\\n",
       "0   LP001002    Male      No          0      Graduate            No   \n",
       "1   LP001003    Male     Yes          1      Graduate            No   \n",
       "2   LP001005    Male     Yes          0      Graduate           Yes   \n",
       "3   LP001006    Male     Yes          0  Not Graduate            No   \n",
       "4   LP001008    Male      No          0      Graduate            No   \n",
       "5   LP001011    Male     Yes          2      Graduate           Yes   \n",
       "6   LP001013    Male     Yes          0  Not Graduate            No   \n",
       "7   LP001014    Male     Yes         3+      Graduate            No   \n",
       "8   LP001018    Male     Yes          2      Graduate            No   \n",
       "9   LP001020    Male     Yes          1      Graduate            No   \n",
       "10  LP001024    Male     Yes          2      Graduate            No   \n",
       "11  LP001027    Male     Yes          2      Graduate           NaN   \n",
       "12  LP001028    Male     Yes          2      Graduate            No   \n",
       "13  LP001029    Male      No          0      Graduate            No   \n",
       "14  LP001030    Male     Yes          2      Graduate            No   \n",
       "15  LP001032    Male      No          0      Graduate            No   \n",
       "16  LP001034    Male      No          1  Not Graduate            No   \n",
       "17  LP001036  Female      No          0      Graduate            No   \n",
       "18  LP001038    Male     Yes          0  Not Graduate            No   \n",
       "19  LP001041    Male     Yes          0      Graduate           NaN   \n",
       "\n",
       "    Applicant_Income  Coapplicant_Income  Loan_Amount  Loan_Amount_Term  \\\n",
       "0               5849                 0.0          NaN             360.0   \n",
       "1               4583              1508.0        128.0             360.0   \n",
       "2               3000                 0.0         66.0             360.0   \n",
       "3               2583              2358.0        120.0             360.0   \n",
       "4               6000                 0.0        141.0             360.0   \n",
       "5               5417              4196.0        267.0             360.0   \n",
       "6               2333              1516.0         95.0             360.0   \n",
       "7               3036              2504.0        158.0             360.0   \n",
       "8               4006              1526.0        168.0             360.0   \n",
       "9              12841             10968.0        349.0             360.0   \n",
       "10              3200               700.0         70.0             360.0   \n",
       "11              2500              1840.0        109.0             360.0   \n",
       "12              3073              8106.0        200.0             360.0   \n",
       "13              1853              2840.0        114.0             360.0   \n",
       "14              1299              1086.0         17.0             120.0   \n",
       "15              4950                 0.0        125.0             360.0   \n",
       "16              3596                 0.0        100.0             240.0   \n",
       "17              3510                 0.0         76.0             360.0   \n",
       "18              4887                 0.0        133.0             360.0   \n",
       "19              2600              3500.0        115.0               NaN   \n",
       "\n",
       "    Credit_History Property_Area Loan_Status  \n",
       "0              1.0         Urban           Y  \n",
       "1              1.0         Rural           N  \n",
       "2              1.0         Urban           Y  \n",
       "3              1.0         Urban           Y  \n",
       "4              1.0         Urban           Y  \n",
       "5              1.0         Urban           Y  \n",
       "6              1.0         Urban           Y  \n",
       "7              0.0     Semiurban           N  \n",
       "8              1.0         Urban           Y  \n",
       "9              1.0     Semiurban           N  \n",
       "10             1.0         Urban           Y  \n",
       "11             1.0         Urban           Y  \n",
       "12             1.0         Urban           Y  \n",
       "13             1.0         Rural           N  \n",
       "14             1.0         Urban           Y  \n",
       "15             1.0         Urban           Y  \n",
       "16             NaN         Urban           Y  \n",
       "17             0.0         Urban           N  \n",
       "18             1.0         Rural           N  \n",
       "19             1.0         Urban           Y  "
      ]
     },
     "execution_count": 2,
     "metadata": {},
     "output_type": "execute_result"
    }
   ],
   "source": [
    "data = pd.read_csv(\"D:/data/Standard bank - job simulation/train.csv\")\n",
    "data.head(20)"
   ]
  },
  {
   "cell_type": "code",
   "execution_count": 3,
   "id": "11143006-a19b-4de9-9770-9545009f5c9e",
   "metadata": {},
   "outputs": [
    {
     "name": "stdout",
     "output_type": "stream",
     "text": [
      "<class 'pandas.core.frame.DataFrame'>\n",
      "RangeIndex: 614 entries, 0 to 613\n",
      "Data columns (total 13 columns):\n",
      " #   Column              Non-Null Count  Dtype  \n",
      "---  ------              --------------  -----  \n",
      " 0   Loan_ID             614 non-null    object \n",
      " 1   Gender              601 non-null    object \n",
      " 2   Married             611 non-null    object \n",
      " 3   Dependents          599 non-null    object \n",
      " 4   Education           614 non-null    object \n",
      " 5   Self_Employed       582 non-null    object \n",
      " 6   Applicant_Income    614 non-null    int64  \n",
      " 7   Coapplicant_Income  614 non-null    float64\n",
      " 8   Loan_Amount         592 non-null    float64\n",
      " 9   Loan_Amount_Term    600 non-null    float64\n",
      " 10  Credit_History      564 non-null    float64\n",
      " 11  Property_Area       614 non-null    object \n",
      " 12  Loan_Status         614 non-null    object \n",
      "dtypes: float64(4), int64(1), object(8)\n",
      "memory usage: 62.5+ KB\n"
     ]
    }
   ],
   "source": [
    "data.info()"
   ]
  },
  {
   "cell_type": "code",
   "execution_count": 4,
   "id": "82c68962-5269-4bf0-856e-c709cfa72754",
   "metadata": {},
   "outputs": [
    {
     "name": "stdout",
     "output_type": "stream",
     "text": [
      "<class 'pandas.core.frame.DataFrame'>\n",
      "RangeIndex: 614 entries, 0 to 613\n",
      "Data columns (total 13 columns):\n",
      " #   Column              Non-Null Count  Dtype  \n",
      "---  ------              --------------  -----  \n",
      " 0   loan_id             614 non-null    object \n",
      " 1   gender              601 non-null    object \n",
      " 2   married             611 non-null    object \n",
      " 3   dependents          599 non-null    object \n",
      " 4   education           614 non-null    object \n",
      " 5   self_employed       582 non-null    object \n",
      " 6   applicant_income    614 non-null    int64  \n",
      " 7   coapplicant_income  614 non-null    float64\n",
      " 8   loan_amount         592 non-null    float64\n",
      " 9   loan_amount_term    600 non-null    float64\n",
      " 10  credit_history      564 non-null    float64\n",
      " 11  property_area       614 non-null    object \n",
      " 12  loan_status         614 non-null    object \n",
      "dtypes: float64(4), int64(1), object(8)\n",
      "memory usage: 62.5+ KB\n"
     ]
    }
   ],
   "source": [
    "data.columns = data.columns.str.lower()\n",
    "data.info()"
   ]
  },
  {
   "cell_type": "code",
   "execution_count": 5,
   "id": "34aeeb1f-c620-428c-a697-7497c1d2fcf6",
   "metadata": {},
   "outputs": [
    {
     "data": {
      "text/plain": [
       "loan_id                0\n",
       "gender                13\n",
       "married                3\n",
       "dependents            15\n",
       "education              0\n",
       "self_employed         32\n",
       "applicant_income       0\n",
       "coapplicant_income     0\n",
       "loan_amount           22\n",
       "loan_amount_term      14\n",
       "credit_history        50\n",
       "property_area          0\n",
       "loan_status            0\n",
       "dtype: int64"
      ]
     },
     "execution_count": 5,
     "metadata": {},
     "output_type": "execute_result"
    }
   ],
   "source": [
    "#Checking for null values\n",
    "\n",
    "data.isnull().sum()"
   ]
  },
  {
   "cell_type": "code",
   "execution_count": 6,
   "id": "066fa980-608c-404f-b98d-852c75fd4c04",
   "metadata": {},
   "outputs": [
    {
     "data": {
      "text/plain": [
       "0"
      ]
     },
     "execution_count": 6,
     "metadata": {},
     "output_type": "execute_result"
    }
   ],
   "source": [
    "## Cheking for duplicate values\n",
    "\n",
    "data.duplicated().sum()"
   ]
  },
  {
   "cell_type": "code",
   "execution_count": 7,
   "id": "0625df18-485e-4d85-bda9-65628539b2ee",
   "metadata": {},
   "outputs": [
    {
     "data": {
      "text/plain": [
       "<Axes: >"
      ]
     },
     "execution_count": 7,
     "metadata": {},
     "output_type": "execute_result"
    },
    {
     "data": {
      "image/png": "[encoded data removed]",
      "text/plain": [
       "<Figure size 640x480 with 1 Axes>"
      ]
     },
     "metadata": {},
     "output_type": "display_data"
    }
   ],
   "source": [
    "data['loan_amount'].hist()"
   ]
  },
  {
   "cell_type": "code",
   "execution_count": 8,
   "id": "cda70b70-0149-43b9-b0f8-693c6d752727",
   "metadata": {},
   "outputs": [
    {
     "data": {
      "text/plain": [
       "<Axes: >"
      ]
     },
     "execution_count": 8,
     "metadata": {},
     "output_type": "execute_result"
    },
    {
     "data": {
      "image/png": "[encoded data removed]",
      "text/plain": [
       "<Figure size 640x480 with 1 Axes>"
      ]
     },
     "metadata": {},
     "output_type": "display_data"
    }
   ],
   "source": [
    "data['loan_amount_term'].hist()"
   ]
  },
  {
   "cell_type": "code",
   "execution_count": 9,
   "id": "6164c6ac-be31-4924-b450-29dba198356f",
   "metadata": {},
   "outputs": [
    {
     "data": {
      "text/plain": [
       "credit_history\n",
       "1.0    475\n",
       "0.0     89\n",
       "Name: count, dtype: int64"
      ]
     },
     "execution_count": 9,
     "metadata": {},
     "output_type": "execute_result"
    }
   ],
   "source": [
    "data['credit_history'].value_counts()"
   ]
  },
  {
   "cell_type": "code",
   "execution_count": 10,
   "id": "56d94340-a16b-432a-8395-fe4c02042f18",
   "metadata": {},
   "outputs": [
    {
     "data": {
      "text/plain": [
       "dependents\n",
       "0     345\n",
       "1     102\n",
       "2     101\n",
       "3+     51\n",
       "Name: count, dtype: int64"
      ]
     },
     "execution_count": 10,
     "metadata": {},
     "output_type": "execute_result"
    }
   ],
   "source": [
    "data['dependents'].value_counts()"
   ]
  },
  {
   "cell_type": "code",
   "execution_count": 11,
   "id": "a5a81489-026b-4fde-a765-f546dbea72b6",
   "metadata": {},
   "outputs": [],
   "source": [
    "data['dependents'] = data['dependents'].replace(\"3+\",3)"
   ]
  },
  {
   "cell_type": "code",
   "execution_count": 12,
   "id": "9781517f-707a-4d17-89bf-db212a733b7e",
   "metadata": {},
   "outputs": [
    {
     "data": {
      "text/plain": [
       "dependents\n",
       "0    345\n",
       "1    102\n",
       "2    101\n",
       "3     51\n",
       "Name: count, dtype: int64"
      ]
     },
     "execution_count": 12,
     "metadata": {},
     "output_type": "execute_result"
    }
   ],
   "source": [
    "data['dependents'].value_counts()"
   ]
  },
  {
   "cell_type": "code",
   "execution_count": 13,
   "id": "9c8f03bd-7262-45b2-9f60-2c060c1fe8bb",
   "metadata": {},
   "outputs": [
    {
     "data": {
      "text/plain": [
       "education\n",
       "Graduate        480\n",
       "Not Graduate    134\n",
       "Name: count, dtype: int64"
      ]
     },
     "execution_count": 13,
     "metadata": {},
     "output_type": "execute_result"
    }
   ],
   "source": [
    "# Checking the education column\n",
    "\n",
    "data['education'].value_counts()"
   ]
  },
  {
   "cell_type": "code",
   "execution_count": 14,
   "id": "367516b2-8449-4995-afc7-eebacd56dc1a",
   "metadata": {},
   "outputs": [
    {
     "data": {
      "text/plain": [
       "0     No\n",
       "1     No\n",
       "2    Yes\n",
       "3     No\n",
       "4     No\n",
       "5    Yes\n",
       "6     No\n",
       "7     No\n",
       "8     No\n",
       "9     No\n",
       "Name: self_employed, dtype: object"
      ]
     },
     "execution_count": 14,
     "metadata": {},
     "output_type": "execute_result"
    }
   ],
   "source": [
    "# Checking self employed column\n",
    "\n",
    "data['self_employed'].head(10)"
   ]
  },
  {
   "cell_type": "code",
   "execution_count": 15,
   "id": "aac69dd7-5e65-40dc-91d6-21282f4ca745",
   "metadata": {},
   "outputs": [
    {
     "data": {
      "text/plain": [
       "self_employed\n",
       "No     500\n",
       "Yes     82\n",
       "Name: count, dtype: int64"
      ]
     },
     "execution_count": 15,
     "metadata": {},
     "output_type": "execute_result"
    }
   ],
   "source": [
    "data['self_employed'].value_counts()"
   ]
  },
  {
   "cell_type": "code",
   "execution_count": 16,
   "id": "ee47ef6a-67cf-445f-b4ea-6208e18a6c7a",
   "metadata": {},
   "outputs": [
    {
     "data": {
      "text/plain": [
       "594    16120\n",
       "595     3833\n",
       "596     6383\n",
       "597     2987\n",
       "598     9963\n",
       "599     5780\n",
       "600      416\n",
       "601     2894\n",
       "602     5703\n",
       "603     3676\n",
       "604    12000\n",
       "605     2400\n",
       "606     3400\n",
       "607     3987\n",
       "608     3232\n",
       "609     2900\n",
       "610     4106\n",
       "611     8072\n",
       "612     7583\n",
       "613     4583\n",
       "Name: applicant_income, dtype: int64"
      ]
     },
     "execution_count": 16,
     "metadata": {},
     "output_type": "execute_result"
    }
   ],
   "source": [
    "data['applicant_income'].tail(20)"
   ]
  },
  {
   "cell_type": "code",
   "execution_count": 17,
   "id": "722eaccc-8719-42e0-8a8e-e091215b75e7",
   "metadata": {},
   "outputs": [
    {
     "data": {
      "text/plain": [
       "604       0.0\n",
       "605    3800.0\n",
       "606    2500.0\n",
       "607    1411.0\n",
       "608    1950.0\n",
       "609       0.0\n",
       "610       0.0\n",
       "611     240.0\n",
       "612       0.0\n",
       "613       0.0\n",
       "Name: coapplicant_income, dtype: float64"
      ]
     },
     "execution_count": 17,
     "metadata": {},
     "output_type": "execute_result"
    }
   ],
   "source": [
    "data['coapplicant_income'].tail(10)"
   ]
  },
  {
   "cell_type": "code",
   "execution_count": 18,
   "id": "9bd8c621-6298-4787-935d-5904643f9c21",
   "metadata": {},
   "outputs": [
    {
     "data": {
      "text/plain": [
       "<Axes: >"
      ]
     },
     "execution_count": 18,
     "metadata": {},
     "output_type": "execute_result"
    },
    {
     "data": {
      "image/png": "[encoded data removed]",
      "text/plain": [
       "<Figure size 640x480 with 1 Axes>"
      ]
     },
     "metadata": {},
     "output_type": "display_data"
    }
   ],
   "source": [
    "data['coapplicant_income'].hist(bins=50)"
   ]
  },
  {
   "cell_type": "code",
   "execution_count": 19,
   "id": "7c04b106-5733-4632-8422-5b187ed7b361",
   "metadata": {},
   "outputs": [
    {
     "data": {
      "text/plain": [
       "0    360.0\n",
       "1    360.0\n",
       "2    360.0\n",
       "3    360.0\n",
       "4    360.0\n",
       "5    360.0\n",
       "6    360.0\n",
       "7    360.0\n",
       "8    360.0\n",
       "9    360.0\n",
       "Name: loan_amount_term, dtype: float64"
      ]
     },
     "execution_count": 19,
     "metadata": {},
     "output_type": "execute_result"
    }
   ],
   "source": [
    "# Cheking loan realted columns\n",
    "\n",
    "data['loan_amount_term'].head(10)"
   ]
  },
  {
   "cell_type": "code",
   "execution_count": 20,
   "id": "b8720697-3a51-47cf-ad88-4d466460e285",
   "metadata": {},
   "outputs": [
    {
     "data": {
      "text/plain": [
       "loan_amount_term\n",
       "360.0    512\n",
       "180.0     44\n",
       "480.0     15\n",
       "300.0     13\n",
       "240.0      4\n",
       "84.0       4\n",
       "120.0      3\n",
       "60.0       2\n",
       "36.0       2\n",
       "12.0       1\n",
       "Name: count, dtype: int64"
      ]
     },
     "execution_count": 20,
     "metadata": {},
     "output_type": "execute_result"
    }
   ],
   "source": [
    "data['loan_amount_term'].value_counts()"
   ]
  },
  {
   "cell_type": "code",
   "execution_count": 21,
   "id": "270799f5-75ff-4c1d-a435-873178874abc",
   "metadata": {},
   "outputs": [
    {
     "data": {
      "text/plain": [
       "<Axes: >"
      ]
     },
     "execution_count": 21,
     "metadata": {},
     "output_type": "execute_result"
    },
    {
     "data": {
      "image/png": "[encoded data removed]",
      "text/plain": [
       "<Figure size 640x480 with 1 Axes>"
      ]
     },
     "metadata": {},
     "output_type": "display_data"
    }
   ],
   "source": [
    "data['loan_amount'].hist(bins=50,color='red',grid=False)"
   ]
  },
  {
   "cell_type": "code",
   "execution_count": 22,
   "id": "e6b07f1e-7035-4f99-8565-53632b818fdc",
   "metadata": {},
   "outputs": [
    {
     "data": {
      "text/plain": [
       "loan_status\n",
       "Y    68.729642\n",
       "N    31.270358\n",
       "Name: count, dtype: float64"
      ]
     },
     "execution_count": 22,
     "metadata": {},
     "output_type": "execute_result"
    }
   ],
   "source": [
    "data['loan_status'].value_counts()/len(data)*100"
   ]
  },
  {
   "cell_type": "code",
   "execution_count": 23,
   "id": "1ed5d505-6d99-400d-80f9-8e368c175787",
   "metadata": {},
   "outputs": [
    {
     "data": {
      "text/plain": [
       "property_area\n",
       "Semiurban    233\n",
       "Urban        202\n",
       "Rural        179\n",
       "Name: count, dtype: int64"
      ]
     },
     "execution_count": 23,
     "metadata": {},
     "output_type": "execute_result"
    }
   ],
   "source": [
    "data['property_area'].value_counts()"
   ]
  },
  {
   "cell_type": "code",
   "execution_count": 24,
   "id": "0f7f45d6-2b45-4717-8023-133716541a31",
   "metadata": {},
   "outputs": [
    {
     "data": {
      "text/plain": [
       "count    592.000000\n",
       "mean     146.412162\n",
       "std       85.587325\n",
       "min        9.000000\n",
       "25%      100.000000\n",
       "50%      128.000000\n",
       "75%      168.000000\n",
       "max      700.000000\n",
       "Name: loan_amount, dtype: float64"
      ]
     },
     "execution_count": 24,
     "metadata": {},
     "output_type": "execute_result"
    }
   ],
   "source": [
    "# Filling loan amount column\n",
    "\n",
    "data['loan_amount'].describe()"
   ]
  },
  {
   "cell_type": "code",
   "execution_count": 25,
   "id": "72dcc4bd-e7ba-4542-8730-bc30c0d85c97",
   "metadata": {},
   "outputs": [],
   "source": [
    "mean_loan = data['loan_amount'].mean()\n",
    "\n",
    "data['loan_amount'] = data['loan_amount'].fillna(mean_loan)"
   ]
  },
  {
   "cell_type": "code",
   "execution_count": 26,
   "id": "60385f10-9ebf-4475-876a-651b29985977",
   "metadata": {},
   "outputs": [
    {
     "data": {
      "text/plain": [
       "loan_id                0\n",
       "gender                13\n",
       "married                3\n",
       "dependents            15\n",
       "education              0\n",
       "self_employed         32\n",
       "applicant_income       0\n",
       "coapplicant_income     0\n",
       "loan_amount            0\n",
       "loan_amount_term      14\n",
       "credit_history        50\n",
       "property_area          0\n",
       "loan_status            0\n",
       "dtype: int64"
      ]
     },
     "execution_count": 26,
     "metadata": {},
     "output_type": "execute_result"
    }
   ],
   "source": [
    "data.isnull().sum()"
   ]
  },
  {
   "cell_type": "code",
   "execution_count": 27,
   "id": "de79413d-7f73-44e0-99eb-5fc2c919b3fe",
   "metadata": {},
   "outputs": [
    {
     "data": {
      "text/plain": [
       "married\n",
       "Yes    398\n",
       "No     213\n",
       "Name: count, dtype: int64"
      ]
     },
     "execution_count": 27,
     "metadata": {},
     "output_type": "execute_result"
    }
   ],
   "source": [
    "data['married'].value_counts()"
   ]
  },
  {
   "cell_type": "code",
   "execution_count": 28,
   "id": "6fa341ed-1556-406e-96ce-6626bb4b0d26",
   "metadata": {},
   "outputs": [],
   "source": [
    "mode_married = data['married'].mode()[0]\n",
    "\n",
    "data['married'].fillna(mode_married,inplace=True)"
   ]
  },
  {
   "cell_type": "code",
   "execution_count": 29,
   "id": "82962be0-d237-45dd-be60-6a1e0492396c",
   "metadata": {},
   "outputs": [],
   "source": [
    "loan_mode = data['loan_amount_term'].mode()[0]\n",
    "\n",
    "data['loan_amount_term'].fillna(loan_mode,inplace=True)"
   ]
  },
  {
   "cell_type": "code",
   "execution_count": 30,
   "id": "531b0dfa-3dcb-404d-a68c-f7d307c405f7",
   "metadata": {},
   "outputs": [
    {
     "data": {
      "text/plain": [
       "loan_id                0\n",
       "gender                13\n",
       "married                0\n",
       "dependents            15\n",
       "education              0\n",
       "self_employed         32\n",
       "applicant_income       0\n",
       "coapplicant_income     0\n",
       "loan_amount            0\n",
       "loan_amount_term       0\n",
       "credit_history        50\n",
       "property_area          0\n",
       "loan_status            0\n",
       "dtype: int64"
      ]
     },
     "execution_count": 30,
     "metadata": {},
     "output_type": "execute_result"
    }
   ],
   "source": [
    "data.isnull().sum()"
   ]
  },
  {
   "cell_type": "code",
   "execution_count": 31,
   "id": "d08a62c0-e78a-4294-893e-17cf2c1d6084",
   "metadata": {},
   "outputs": [
    {
     "data": {
      "text/plain": [
       "gender\n",
       "Male      489\n",
       "Female    112\n",
       "Name: count, dtype: int64"
      ]
     },
     "execution_count": 31,
     "metadata": {},
     "output_type": "execute_result"
    }
   ],
   "source": [
    "data['gender'].value_counts()"
   ]
  },
  {
   "cell_type": "code",
   "execution_count": 32,
   "id": "89c565fb-f240-4e3a-b10e-a48d10609c2a",
   "metadata": {},
   "outputs": [],
   "source": [
    "gender_mode = data['gender'].mode()[0]\n",
    "dep_mode = data['dependents'].mode()[0]\n",
    "\n",
    "data['gender'].fillna(gender_mode,inplace=True)\n",
    "data['dependents'].fillna(dep_mode,inplace=True)"
   ]
  },
  {
   "cell_type": "code",
   "execution_count": 33,
   "id": "e0fca175-7f11-4e1e-84bb-3817202fdc3e",
   "metadata": {},
   "outputs": [],
   "source": [
    "data['dependents'] = data['dependents'].astype(int)"
   ]
  },
  {
   "cell_type": "code",
   "execution_count": 34,
   "id": "21f4898e-599c-491c-bc92-a535ffc62a24",
   "metadata": {},
   "outputs": [
    {
     "data": {
      "text/plain": [
       "loan_id                0\n",
       "gender                 0\n",
       "married                0\n",
       "dependents             0\n",
       "education              0\n",
       "self_employed         32\n",
       "applicant_income       0\n",
       "coapplicant_income     0\n",
       "loan_amount            0\n",
       "loan_amount_term       0\n",
       "credit_history        50\n",
       "property_area          0\n",
       "loan_status            0\n",
       "dtype: int64"
      ]
     },
     "execution_count": 34,
     "metadata": {},
     "output_type": "execute_result"
    }
   ],
   "source": [
    "data.isnull().sum()"
   ]
  },
  {
   "cell_type": "code",
   "execution_count": 35,
   "id": "a90196dc-8c95-4789-913c-fcace3f9dda2",
   "metadata": {},
   "outputs": [],
   "source": [
    "# Removing rest of the null values as their count is very high, imputing it may cause bais in the model\n",
    "\n",
    "data.dropna(inplace=True)"
   ]
  },
  {
   "cell_type": "code",
   "execution_count": 36,
   "id": "e578340e-7d8c-4a51-8782-17159b3d2bb5",
   "metadata": {},
   "outputs": [
    {
     "name": "stdout",
     "output_type": "stream",
     "text": [
      "<class 'pandas.core.frame.DataFrame'>\n",
      "Index: 538 entries, 0 to 613\n",
      "Data columns (total 13 columns):\n",
      " #   Column              Non-Null Count  Dtype  \n",
      "---  ------              --------------  -----  \n",
      " 0   loan_id             538 non-null    object \n",
      " 1   gender              538 non-null    object \n",
      " 2   married             538 non-null    object \n",
      " 3   dependents          538 non-null    int32  \n",
      " 4   education           538 non-null    object \n",
      " 5   self_employed       538 non-null    object \n",
      " 6   applicant_income    538 non-null    int64  \n",
      " 7   coapplicant_income  538 non-null    float64\n",
      " 8   loan_amount         538 non-null    float64\n",
      " 9   loan_amount_term    538 non-null    float64\n",
      " 10  credit_history      538 non-null    float64\n",
      " 11  property_area       538 non-null    object \n",
      " 12  loan_status         538 non-null    object \n",
      "dtypes: float64(4), int32(1), int64(1), object(7)\n",
      "memory usage: 56.7+ KB\n"
     ]
    }
   ],
   "source": [
    "data.info()"
   ]
  },
  {
   "cell_type": "code",
   "execution_count": 37,
   "id": "508ea312-aa2a-4531-958e-ca6d8923c563",
   "metadata": {},
   "outputs": [],
   "source": [
    "data['credit_history'] = data['credit_history'].astype(int)"
   ]
  },
  {
   "cell_type": "code",
   "execution_count": 38,
   "id": "c46d7dda-b175-4fae-b7d2-fdafd3c7a900",
   "metadata": {},
   "outputs": [],
   "source": [
    "data['loan_amount_term'] = data['loan_amount_term'].astype(int)"
   ]
  },
  {
   "cell_type": "code",
   "execution_count": 39,
   "id": "d9a4b98b-8ef3-4709-8806-b7cae8057ab7",
   "metadata": {},
   "outputs": [],
   "source": [
    "data.drop('loan_id',axis=1,inplace=True)"
   ]
  },
  {
   "cell_type": "code",
   "execution_count": 40,
   "id": "1f0f8b40-ec5f-4ffe-9689-ecddbb99759d",
   "metadata": {},
   "outputs": [
    {
     "name": "stdout",
     "output_type": "stream",
     "text": [
      "<class 'pandas.core.frame.DataFrame'>\n",
      "Index: 538 entries, 0 to 613\n",
      "Data columns (total 12 columns):\n",
      " #   Column              Non-Null Count  Dtype  \n",
      "---  ------              --------------  -----  \n",
      " 0   gender              538 non-null    object \n",
      " 1   married             538 non-null    object \n",
      " 2   dependents          538 non-null    int32  \n",
      " 3   education           538 non-null    object \n",
      " 4   self_employed       538 non-null    object \n",
      " 5   applicant_income    538 non-null    int64  \n",
      " 6   coapplicant_income  538 non-null    float64\n",
      " 7   loan_amount         538 non-null    float64\n",
      " 8   loan_amount_term    538 non-null    int32  \n",
      " 9   credit_history      538 non-null    int32  \n",
      " 10  property_area       538 non-null    object \n",
      " 11  loan_status         538 non-null    object \n",
      "dtypes: float64(2), int32(3), int64(1), object(6)\n",
      "memory usage: 48.3+ KB\n"
     ]
    }
   ],
   "source": [
    "data.info()"
   ]
  },
  {
   "cell_type": "code",
   "execution_count": 41,
   "id": "8c2b9064-8a40-4055-82e6-6a0d6905f88a",
   "metadata": {},
   "outputs": [],
   "source": [
    "data.to_csv('cleaned_data_Loan_Status.csv', index=False)"
   ]
  },
  {
   "cell_type": "code",
   "execution_count": 42,
   "id": "d8199179-d686-411c-aed1-de2ba5773fb1",
   "metadata": {},
   "outputs": [
    {
     "data": {
      "text/html": [
       "<div>\n",
       "<style scoped>\n",
       "    .dataframe tbody tr th:only-of-type {\n",
       "        vertical-align: middle;\n",
       "    }\n",
       "\n",
       "    .dataframe tbody tr th {\n",
       "        vertical-align: top;\n",
       "    }\n",
       "\n",
       "    .dataframe thead th {\n",
       "        text-align: right;\n",
       "    }\n",
       "</style>\n",
       "<table border=\"1\" class=\"dataframe\">\n",
       "  <thead>\n",
       "    <tr style=\"text-align: right;\">\n",
       "      <th></th>\n",
       "      <th>dependents</th>\n",
       "      <th>applicant_income</th>\n",
       "      <th>coapplicant_income</th>\n",
       "      <th>loan_amount</th>\n",
       "      <th>loan_amount_term</th>\n",
       "      <th>credit_history</th>\n",
       "    </tr>\n",
       "  </thead>\n",
       "  <tbody>\n",
       "    <tr>\n",
       "      <th>count</th>\n",
       "      <td>538.000000</td>\n",
       "      <td>538.000000</td>\n",
       "      <td>538.000000</td>\n",
       "      <td>538.000000</td>\n",
       "      <td>538.000000</td>\n",
       "      <td>538.000000</td>\n",
       "    </tr>\n",
       "    <tr>\n",
       "      <th>mean</th>\n",
       "      <td>0.756506</td>\n",
       "      <td>5432.211896</td>\n",
       "      <td>1541.438513</td>\n",
       "      <td>145.371107</td>\n",
       "      <td>342.758364</td>\n",
       "      <td>0.836431</td>\n",
       "    </tr>\n",
       "    <tr>\n",
       "      <th>std</th>\n",
       "      <td>1.022195</td>\n",
       "      <td>5885.545882</td>\n",
       "      <td>2517.250234</td>\n",
       "      <td>81.119033</td>\n",
       "      <td>64.124916</td>\n",
       "      <td>0.370228</td>\n",
       "    </tr>\n",
       "    <tr>\n",
       "      <th>min</th>\n",
       "      <td>0.000000</td>\n",
       "      <td>150.000000</td>\n",
       "      <td>0.000000</td>\n",
       "      <td>9.000000</td>\n",
       "      <td>36.000000</td>\n",
       "      <td>0.000000</td>\n",
       "    </tr>\n",
       "    <tr>\n",
       "      <th>25%</th>\n",
       "      <td>0.000000</td>\n",
       "      <td>2896.250000</td>\n",
       "      <td>0.000000</td>\n",
       "      <td>101.250000</td>\n",
       "      <td>360.000000</td>\n",
       "      <td>1.000000</td>\n",
       "    </tr>\n",
       "    <tr>\n",
       "      <th>50%</th>\n",
       "      <td>0.000000</td>\n",
       "      <td>3858.500000</td>\n",
       "      <td>1062.000000</td>\n",
       "      <td>130.000000</td>\n",
       "      <td>360.000000</td>\n",
       "      <td>1.000000</td>\n",
       "    </tr>\n",
       "    <tr>\n",
       "      <th>75%</th>\n",
       "      <td>2.000000</td>\n",
       "      <td>5820.500000</td>\n",
       "      <td>2245.500000</td>\n",
       "      <td>165.000000</td>\n",
       "      <td>360.000000</td>\n",
       "      <td>1.000000</td>\n",
       "    </tr>\n",
       "    <tr>\n",
       "      <th>max</th>\n",
       "      <td>3.000000</td>\n",
       "      <td>81000.000000</td>\n",
       "      <td>33837.000000</td>\n",
       "      <td>700.000000</td>\n",
       "      <td>480.000000</td>\n",
       "      <td>1.000000</td>\n",
       "    </tr>\n",
       "  </tbody>\n",
       "</table>\n",
       "</div>"
      ],
      "text/plain": [
       "       dependents  applicant_income  coapplicant_income  loan_amount  \\\n",
       "count  538.000000        538.000000          538.000000   538.000000   \n",
       "mean     0.756506       5432.211896         1541.438513   145.371107   \n",
       "std      1.022195       5885.545882         2517.250234    81.119033   \n",
       "min      0.000000        150.000000            0.000000     9.000000   \n",
       "25%      0.000000       2896.250000            0.000000   101.250000   \n",
       "50%      0.000000       3858.500000         1062.000000   130.000000   \n",
       "75%      2.000000       5820.500000         2245.500000   165.000000   \n",
       "max      3.000000      81000.000000        33837.000000   700.000000   \n",
       "\n",
       "       loan_amount_term  credit_history  \n",
       "count        538.000000      538.000000  \n",
       "mean         342.758364        0.836431  \n",
       "std           64.124916        0.370228  \n",
       "min           36.000000        0.000000  \n",
       "25%          360.000000        1.000000  \n",
       "50%          360.000000        1.000000  \n",
       "75%          360.000000        1.000000  \n",
       "max          480.000000        1.000000  "
      ]
     },
     "execution_count": 42,
     "metadata": {},
     "output_type": "execute_result"
    }
   ],
   "source": [
    "data.describe()"
   ]
  },
  {
   "cell_type": "code",
   "execution_count": 43,
   "id": "337f1030-b20b-4dbd-8094-1a370d4febe0",
   "metadata": {},
   "outputs": [
    {
     "name": "stdout",
     "output_type": "stream",
     "text": [
      "Number of outliers in applicant_income: 45\n",
      "Number of outliers in coapplicant_income: 21\n",
      "Number of outliers in loan_amount: 34\n"
     ]
    }
   ],
   "source": [
    "# Cheking for outliers \n",
    "\n",
    "num_cols = data[['applicant_income','coapplicant_income','loan_amount']]\n",
    "\n",
    "outlier_count = {}\n",
    "\n",
    "for col in num_cols:\n",
    "    q1 = data[col].quantile(0.25)\n",
    "    q3 = data[col].quantile(0.75)\n",
    "    iqr = q3 - q1\n",
    "    \n",
    "    lower_bound = q1 - 1.5 * iqr\n",
    "    upper_bound = q3 + 1.5 * iqr\n",
    "    \n",
    "    outliers = data[(data[col] < lower_bound) | (data[col] > upper_bound)]\n",
    "    outlier_count[col] = len(outliers)\n",
    "    \n",
    "for col, count in outlier_count.items():\n",
    "    print(f\"Number of outliers in {col}: {count}\")"
   ]
  },
  {
   "cell_type": "markdown",
   "id": "e3fc881c-a71e-4f07-849a-6fa73e8de283",
   "metadata": {},
   "source": [
    "* We will run logistic regression without outliers and decision tree and random forest with outliers as these models handle outliers well."
   ]
  },
  {
   "cell_type": "code",
   "execution_count": 44,
   "id": "aacee380-79db-463d-ba64-47b0289ad93a",
   "metadata": {},
   "outputs": [],
   "source": [
    "from sklearn.preprocessing import LabelEncoder\n",
    "le=LabelEncoder()\n",
    "\n",
    "for col in data.columns:\n",
    "    if data[col].dtypes == 'object':\n",
    "        data[col] = le.fit_transform(data[col])"
   ]
  },
  {
   "cell_type": "markdown",
   "id": "7434a10d-6455-4532-87b2-a98598270c71",
   "metadata": {},
   "source": [
    "#### Logsitic Regression"
   ]
  },
  {
   "cell_type": "code",
   "execution_count": 45,
   "id": "7481d6e3-9b40-43e9-9b80-b514ded7070b",
   "metadata": {},
   "outputs": [
    {
     "data": {
      "text/html": [
       "<div>\n",
       "<style scoped>\n",
       "    .dataframe tbody tr th:only-of-type {\n",
       "        vertical-align: middle;\n",
       "    }\n",
       "\n",
       "    .dataframe tbody tr th {\n",
       "        vertical-align: top;\n",
       "    }\n",
       "\n",
       "    .dataframe thead th {\n",
       "        text-align: right;\n",
       "    }\n",
       "</style>\n",
       "<table border=\"1\" class=\"dataframe\">\n",
       "  <thead>\n",
       "    <tr style=\"text-align: right;\">\n",
       "      <th></th>\n",
       "      <th>gender</th>\n",
       "      <th>married</th>\n",
       "      <th>dependents</th>\n",
       "      <th>education</th>\n",
       "      <th>self_employed</th>\n",
       "      <th>applicant_income</th>\n",
       "      <th>coapplicant_income</th>\n",
       "      <th>loan_amount</th>\n",
       "      <th>loan_amount_term</th>\n",
       "      <th>credit_history</th>\n",
       "      <th>property_area</th>\n",
       "      <th>loan_status</th>\n",
       "    </tr>\n",
       "  </thead>\n",
       "  <tbody>\n",
       "    <tr>\n",
       "      <th>0</th>\n",
       "      <td>1</td>\n",
       "      <td>0</td>\n",
       "      <td>0</td>\n",
       "      <td>0</td>\n",
       "      <td>0</td>\n",
       "      <td>5849</td>\n",
       "      <td>0.0</td>\n",
       "      <td>146.412162</td>\n",
       "      <td>360</td>\n",
       "      <td>1</td>\n",
       "      <td>2</td>\n",
       "      <td>1</td>\n",
       "    </tr>\n",
       "    <tr>\n",
       "      <th>1</th>\n",
       "      <td>1</td>\n",
       "      <td>1</td>\n",
       "      <td>1</td>\n",
       "      <td>0</td>\n",
       "      <td>0</td>\n",
       "      <td>4583</td>\n",
       "      <td>1508.0</td>\n",
       "      <td>128.000000</td>\n",
       "      <td>360</td>\n",
       "      <td>1</td>\n",
       "      <td>0</td>\n",
       "      <td>0</td>\n",
       "    </tr>\n",
       "    <tr>\n",
       "      <th>2</th>\n",
       "      <td>1</td>\n",
       "      <td>1</td>\n",
       "      <td>0</td>\n",
       "      <td>0</td>\n",
       "      <td>1</td>\n",
       "      <td>3000</td>\n",
       "      <td>0.0</td>\n",
       "      <td>66.000000</td>\n",
       "      <td>360</td>\n",
       "      <td>1</td>\n",
       "      <td>2</td>\n",
       "      <td>1</td>\n",
       "    </tr>\n",
       "    <tr>\n",
       "      <th>3</th>\n",
       "      <td>1</td>\n",
       "      <td>1</td>\n",
       "      <td>0</td>\n",
       "      <td>1</td>\n",
       "      <td>0</td>\n",
       "      <td>2583</td>\n",
       "      <td>2358.0</td>\n",
       "      <td>120.000000</td>\n",
       "      <td>360</td>\n",
       "      <td>1</td>\n",
       "      <td>2</td>\n",
       "      <td>1</td>\n",
       "    </tr>\n",
       "    <tr>\n",
       "      <th>4</th>\n",
       "      <td>1</td>\n",
       "      <td>0</td>\n",
       "      <td>0</td>\n",
       "      <td>0</td>\n",
       "      <td>0</td>\n",
       "      <td>6000</td>\n",
       "      <td>0.0</td>\n",
       "      <td>141.000000</td>\n",
       "      <td>360</td>\n",
       "      <td>1</td>\n",
       "      <td>2</td>\n",
       "      <td>1</td>\n",
       "    </tr>\n",
       "  </tbody>\n",
       "</table>\n",
       "</div>"
      ],
      "text/plain": [
       "   gender  married  dependents  education  self_employed  applicant_income  \\\n",
       "0       1        0           0          0              0              5849   \n",
       "1       1        1           1          0              0              4583   \n",
       "2       1        1           0          0              1              3000   \n",
       "3       1        1           0          1              0              2583   \n",
       "4       1        0           0          0              0              6000   \n",
       "\n",
       "   coapplicant_income  loan_amount  loan_amount_term  credit_history  \\\n",
       "0                 0.0   146.412162               360               1   \n",
       "1              1508.0   128.000000               360               1   \n",
       "2                 0.0    66.000000               360               1   \n",
       "3              2358.0   120.000000               360               1   \n",
       "4                 0.0   141.000000               360               1   \n",
       "\n",
       "   property_area  loan_status  \n",
       "0              2            1  \n",
       "1              0            0  \n",
       "2              2            1  \n",
       "3              2            1  \n",
       "4              2            1  "
      ]
     },
     "execution_count": 45,
     "metadata": {},
     "output_type": "execute_result"
    }
   ],
   "source": [
    "logis_data = data.copy()\n",
    "logis_data.head()"
   ]
  },
  {
   "cell_type": "code",
   "execution_count": 46,
   "id": "d23eed88-c85c-4808-a809-5aa87855090e",
   "metadata": {},
   "outputs": [],
   "source": [
    "x=logis_data.drop(columns=[\"loan_status\"])\n",
    "y=logis_data[[\"loan_status\"]]"
   ]
  },
  {
   "cell_type": "code",
   "execution_count": 47,
   "id": "c42913cf-dcb0-4416-ad12-0a0015098e78",
   "metadata": {},
   "outputs": [
    {
     "data": {
      "text/plain": [
       "loan_status\n",
       "1              67.472119\n",
       "0              32.527881\n",
       "Name: count, dtype: float64"
      ]
     },
     "execution_count": 47,
     "metadata": {},
     "output_type": "execute_result"
    }
   ],
   "source": [
    "y.value_counts()/len(y)*100"
   ]
  },
  {
   "cell_type": "markdown",
   "id": "30870c65-ae7f-4353-b852-a0fae1c405e1",
   "metadata": {},
   "source": [
    " 1 = yes , 0 = no"
   ]
  },
  {
   "cell_type": "code",
   "execution_count": 48,
   "id": "728da505-46b6-4238-b8c1-f442e4eff449",
   "metadata": {},
   "outputs": [
    {
     "data": {
      "text/html": [
       "<div>\n",
       "<style scoped>\n",
       "    .dataframe tbody tr th:only-of-type {\n",
       "        vertical-align: middle;\n",
       "    }\n",
       "\n",
       "    .dataframe tbody tr th {\n",
       "        vertical-align: top;\n",
       "    }\n",
       "\n",
       "    .dataframe thead th {\n",
       "        text-align: right;\n",
       "    }\n",
       "</style>\n",
       "<table border=\"1\" class=\"dataframe\">\n",
       "  <thead>\n",
       "    <tr style=\"text-align: right;\">\n",
       "      <th></th>\n",
       "      <th>gender</th>\n",
       "      <th>married</th>\n",
       "      <th>dependents</th>\n",
       "      <th>education</th>\n",
       "      <th>self_employed</th>\n",
       "      <th>applicant_income</th>\n",
       "      <th>coapplicant_income</th>\n",
       "      <th>loan_amount</th>\n",
       "      <th>loan_amount_term</th>\n",
       "      <th>credit_history</th>\n",
       "      <th>property_area</th>\n",
       "    </tr>\n",
       "  </thead>\n",
       "  <tbody>\n",
       "    <tr>\n",
       "      <th>0</th>\n",
       "      <td>1</td>\n",
       "      <td>0</td>\n",
       "      <td>0</td>\n",
       "      <td>0</td>\n",
       "      <td>0</td>\n",
       "      <td>5849</td>\n",
       "      <td>0.0</td>\n",
       "      <td>146.412162</td>\n",
       "      <td>360</td>\n",
       "      <td>1</td>\n",
       "      <td>2</td>\n",
       "    </tr>\n",
       "    <tr>\n",
       "      <th>1</th>\n",
       "      <td>1</td>\n",
       "      <td>1</td>\n",
       "      <td>1</td>\n",
       "      <td>0</td>\n",
       "      <td>0</td>\n",
       "      <td>4583</td>\n",
       "      <td>1508.0</td>\n",
       "      <td>128.000000</td>\n",
       "      <td>360</td>\n",
       "      <td>1</td>\n",
       "      <td>0</td>\n",
       "    </tr>\n",
       "    <tr>\n",
       "      <th>2</th>\n",
       "      <td>1</td>\n",
       "      <td>1</td>\n",
       "      <td>0</td>\n",
       "      <td>0</td>\n",
       "      <td>1</td>\n",
       "      <td>3000</td>\n",
       "      <td>0.0</td>\n",
       "      <td>66.000000</td>\n",
       "      <td>360</td>\n",
       "      <td>1</td>\n",
       "      <td>2</td>\n",
       "    </tr>\n",
       "    <tr>\n",
       "      <th>3</th>\n",
       "      <td>1</td>\n",
       "      <td>1</td>\n",
       "      <td>0</td>\n",
       "      <td>1</td>\n",
       "      <td>0</td>\n",
       "      <td>2583</td>\n",
       "      <td>2358.0</td>\n",
       "      <td>120.000000</td>\n",
       "      <td>360</td>\n",
       "      <td>1</td>\n",
       "      <td>2</td>\n",
       "    </tr>\n",
       "    <tr>\n",
       "      <th>4</th>\n",
       "      <td>1</td>\n",
       "      <td>0</td>\n",
       "      <td>0</td>\n",
       "      <td>0</td>\n",
       "      <td>0</td>\n",
       "      <td>6000</td>\n",
       "      <td>0.0</td>\n",
       "      <td>141.000000</td>\n",
       "      <td>360</td>\n",
       "      <td>1</td>\n",
       "      <td>2</td>\n",
       "    </tr>\n",
       "  </tbody>\n",
       "</table>\n",
       "</div>"
      ],
      "text/plain": [
       "   gender  married  dependents  education  self_employed  applicant_income  \\\n",
       "0       1        0           0          0              0              5849   \n",
       "1       1        1           1          0              0              4583   \n",
       "2       1        1           0          0              1              3000   \n",
       "3       1        1           0          1              0              2583   \n",
       "4       1        0           0          0              0              6000   \n",
       "\n",
       "   coapplicant_income  loan_amount  loan_amount_term  credit_history  \\\n",
       "0                 0.0   146.412162               360               1   \n",
       "1              1508.0   128.000000               360               1   \n",
       "2                 0.0    66.000000               360               1   \n",
       "3              2358.0   120.000000               360               1   \n",
       "4                 0.0   141.000000               360               1   \n",
       "\n",
       "   property_area  \n",
       "0              2  \n",
       "1              0  \n",
       "2              2  \n",
       "3              2  \n",
       "4              2  "
      ]
     },
     "execution_count": 48,
     "metadata": {},
     "output_type": "execute_result"
    }
   ],
   "source": [
    "x.head()"
   ]
  },
  {
   "cell_type": "code",
   "execution_count": 49,
   "id": "c7149c84-1e00-44d8-bbb2-a8d2f8e8006f",
   "metadata": {},
   "outputs": [
    {
     "data": {
      "text/html": [
       "<div>\n",
       "<style scoped>\n",
       "    .dataframe tbody tr th:only-of-type {\n",
       "        vertical-align: middle;\n",
       "    }\n",
       "\n",
       "    .dataframe tbody tr th {\n",
       "        vertical-align: top;\n",
       "    }\n",
       "\n",
       "    .dataframe thead th {\n",
       "        text-align: right;\n",
       "    }\n",
       "</style>\n",
       "<table border=\"1\" class=\"dataframe\">\n",
       "  <thead>\n",
       "    <tr style=\"text-align: right;\">\n",
       "      <th></th>\n",
       "      <th>gender</th>\n",
       "      <th>married</th>\n",
       "      <th>dependents</th>\n",
       "      <th>education</th>\n",
       "      <th>self_employed</th>\n",
       "      <th>applicant_income</th>\n",
       "      <th>coapplicant_income</th>\n",
       "      <th>loan_amount</th>\n",
       "      <th>loan_amount_term</th>\n",
       "      <th>credit_history</th>\n",
       "      <th>property_area</th>\n",
       "    </tr>\n",
       "  </thead>\n",
       "  <tbody>\n",
       "    <tr>\n",
       "      <th>gender</th>\n",
       "      <td>1.000000</td>\n",
       "      <td>0.363129</td>\n",
       "      <td>0.197051</td>\n",
       "      <td>0.048870</td>\n",
       "      <td>0.001471</td>\n",
       "      <td>0.038904</td>\n",
       "      <td>0.159074</td>\n",
       "      <td>0.102475</td>\n",
       "      <td>-0.073403</td>\n",
       "      <td>0.021499</td>\n",
       "      <td>-0.028192</td>\n",
       "    </tr>\n",
       "    <tr>\n",
       "      <th>married</th>\n",
       "      <td>0.363129</td>\n",
       "      <td>1.000000</td>\n",
       "      <td>0.357233</td>\n",
       "      <td>0.009256</td>\n",
       "      <td>0.023313</td>\n",
       "      <td>0.054544</td>\n",
       "      <td>0.114964</td>\n",
       "      <td>0.182820</td>\n",
       "      <td>-0.105779</td>\n",
       "      <td>0.014907</td>\n",
       "      <td>0.014727</td>\n",
       "    </tr>\n",
       "    <tr>\n",
       "      <th>dependents</th>\n",
       "      <td>0.197051</td>\n",
       "      <td>0.357233</td>\n",
       "      <td>1.000000</td>\n",
       "      <td>0.035526</td>\n",
       "      <td>0.053924</td>\n",
       "      <td>0.158827</td>\n",
       "      <td>-0.013161</td>\n",
       "      <td>0.204716</td>\n",
       "      <td>-0.103714</td>\n",
       "      <td>-0.031628</td>\n",
       "      <td>-0.009609</td>\n",
       "    </tr>\n",
       "    <tr>\n",
       "      <th>education</th>\n",
       "      <td>0.048870</td>\n",
       "      <td>0.009256</td>\n",
       "      <td>0.035526</td>\n",
       "      <td>1.000000</td>\n",
       "      <td>-0.013504</td>\n",
       "      <td>-0.146350</td>\n",
       "      <td>-0.059085</td>\n",
       "      <td>-0.170006</td>\n",
       "      <td>-0.099166</td>\n",
       "      <td>-0.088129</td>\n",
       "      <td>-0.042164</td>\n",
       "    </tr>\n",
       "    <tr>\n",
       "      <th>self_employed</th>\n",
       "      <td>0.001471</td>\n",
       "      <td>0.023313</td>\n",
       "      <td>0.053924</td>\n",
       "      <td>-0.013504</td>\n",
       "      <td>1.000000</td>\n",
       "      <td>0.143969</td>\n",
       "      <td>-0.000616</td>\n",
       "      <td>0.108289</td>\n",
       "      <td>-0.037432</td>\n",
       "      <td>0.003883</td>\n",
       "      <td>-0.046564</td>\n",
       "    </tr>\n",
       "    <tr>\n",
       "      <th>applicant_income</th>\n",
       "      <td>0.038904</td>\n",
       "      <td>0.054544</td>\n",
       "      <td>0.158827</td>\n",
       "      <td>-0.146350</td>\n",
       "      <td>0.143969</td>\n",
       "      <td>1.000000</td>\n",
       "      <td>-0.123291</td>\n",
       "      <td>0.544698</td>\n",
       "      <td>-0.021934</td>\n",
       "      <td>-0.019174</td>\n",
       "      <td>-0.042878</td>\n",
       "    </tr>\n",
       "    <tr>\n",
       "      <th>coapplicant_income</th>\n",
       "      <td>0.159074</td>\n",
       "      <td>0.114964</td>\n",
       "      <td>-0.013161</td>\n",
       "      <td>-0.059085</td>\n",
       "      <td>-0.000616</td>\n",
       "      <td>-0.123291</td>\n",
       "      <td>1.000000</td>\n",
       "      <td>0.168990</td>\n",
       "      <td>-0.009350</td>\n",
       "      <td>-0.003212</td>\n",
       "      <td>-0.015470</td>\n",
       "    </tr>\n",
       "    <tr>\n",
       "      <th>loan_amount</th>\n",
       "      <td>0.102475</td>\n",
       "      <td>0.182820</td>\n",
       "      <td>0.204716</td>\n",
       "      <td>-0.170006</td>\n",
       "      <td>0.108289</td>\n",
       "      <td>0.544698</td>\n",
       "      <td>0.168990</td>\n",
       "      <td>1.000000</td>\n",
       "      <td>0.035636</td>\n",
       "      <td>-0.011905</td>\n",
       "      <td>-0.098734</td>\n",
       "    </tr>\n",
       "    <tr>\n",
       "      <th>loan_amount_term</th>\n",
       "      <td>-0.073403</td>\n",
       "      <td>-0.105779</td>\n",
       "      <td>-0.103714</td>\n",
       "      <td>-0.099166</td>\n",
       "      <td>-0.037432</td>\n",
       "      <td>-0.021934</td>\n",
       "      <td>-0.009350</td>\n",
       "      <td>0.035636</td>\n",
       "      <td>1.000000</td>\n",
       "      <td>-0.001354</td>\n",
       "      <td>-0.071769</td>\n",
       "    </tr>\n",
       "    <tr>\n",
       "      <th>credit_history</th>\n",
       "      <td>0.021499</td>\n",
       "      <td>0.014907</td>\n",
       "      <td>-0.031628</td>\n",
       "      <td>-0.088129</td>\n",
       "      <td>0.003883</td>\n",
       "      <td>-0.019174</td>\n",
       "      <td>-0.003212</td>\n",
       "      <td>-0.011905</td>\n",
       "      <td>-0.001354</td>\n",
       "      <td>1.000000</td>\n",
       "      <td>0.001743</td>\n",
       "    </tr>\n",
       "    <tr>\n",
       "      <th>property_area</th>\n",
       "      <td>-0.028192</td>\n",
       "      <td>0.014727</td>\n",
       "      <td>-0.009609</td>\n",
       "      <td>-0.042164</td>\n",
       "      <td>-0.046564</td>\n",
       "      <td>-0.042878</td>\n",
       "      <td>-0.015470</td>\n",
       "      <td>-0.098734</td>\n",
       "      <td>-0.071769</td>\n",
       "      <td>0.001743</td>\n",
       "      <td>1.000000</td>\n",
       "    </tr>\n",
       "  </tbody>\n",
       "</table>\n",
       "</div>"
      ],
      "text/plain": [
       "                      gender   married  dependents  education  self_employed  \\\n",
       "gender              1.000000  0.363129    0.197051   0.048870       0.001471   \n",
       "married             0.363129  1.000000    0.357233   0.009256       0.023313   \n",
       "dependents          0.197051  0.357233    1.000000   0.035526       0.053924   \n",
       "education           0.048870  0.009256    0.035526   1.000000      -0.013504   \n",
       "self_employed       0.001471  0.023313    0.053924  -0.013504       1.000000   \n",
       "applicant_income    0.038904  0.054544    0.158827  -0.146350       0.143969   \n",
       "coapplicant_income  0.159074  0.114964   -0.013161  -0.059085      -0.000616   \n",
       "loan_amount         0.102475  0.182820    0.204716  -0.170006       0.108289   \n",
       "loan_amount_term   -0.073403 -0.105779   -0.103714  -0.099166      -0.037432   \n",
       "credit_history      0.021499  0.014907   -0.031628  -0.088129       0.003883   \n",
       "property_area      -0.028192  0.014727   -0.009609  -0.042164      -0.046564   \n",
       "\n",
       "                    applicant_income  coapplicant_income  loan_amount  \\\n",
       "gender                      0.038904            0.159074     0.102475   \n",
       "married                     0.054544            0.114964     0.182820   \n",
       "dependents                  0.158827           -0.013161     0.204716   \n",
       "education                  -0.146350           -0.059085    -0.170006   \n",
       "self_employed               0.143969           -0.000616     0.108289   \n",
       "applicant_income            1.000000           -0.123291     0.544698   \n",
       "coapplicant_income         -0.123291            1.000000     0.168990   \n",
       "loan_amount                 0.544698            0.168990     1.000000   \n",
       "loan_amount_term           -0.021934           -0.009350     0.035636   \n",
       "credit_history             -0.019174           -0.003212    -0.011905   \n",
       "property_area              -0.042878           -0.015470    -0.098734   \n",
       "\n",
       "                    loan_amount_term  credit_history  property_area  \n",
       "gender                     -0.073403        0.021499      -0.028192  \n",
       "married                    -0.105779        0.014907       0.014727  \n",
       "dependents                 -0.103714       -0.031628      -0.009609  \n",
       "education                  -0.099166       -0.088129      -0.042164  \n",
       "self_employed              -0.037432        0.003883      -0.046564  \n",
       "applicant_income           -0.021934       -0.019174      -0.042878  \n",
       "coapplicant_income         -0.009350       -0.003212      -0.015470  \n",
       "loan_amount                 0.035636       -0.011905      -0.098734  \n",
       "loan_amount_term            1.000000       -0.001354      -0.071769  \n",
       "credit_history             -0.001354        1.000000       0.001743  \n",
       "property_area              -0.071769        0.001743       1.000000  "
      ]
     },
     "execution_count": 49,
     "metadata": {},
     "output_type": "execute_result"
    }
   ],
   "source": [
    "x.corr()"
   ]
  },
  {
   "cell_type": "code",
   "execution_count": 50,
   "id": "2210e6ad-3780-466b-9934-a68cb5dde42b",
   "metadata": {},
   "outputs": [],
   "source": [
    "## Scaling the data\n",
    "from sklearn.preprocessing import StandardScaler\n",
    "scaler = StandardScaler()\n",
    "scaled_X = scaler.fit_transform(x)"
   ]
  },
  {
   "cell_type": "code",
   "execution_count": 51,
   "id": "9e67fe3e-c1b7-4d40-a8ad-a369f9354e7e",
   "metadata": {},
   "outputs": [
    {
     "data": {
      "text/plain": [
       "((376, 11), (162, 11), (376, 1), (162, 1))"
      ]
     },
     "execution_count": 51,
     "metadata": {},
     "output_type": "execute_result"
    }
   ],
   "source": [
    "## Spliting the data\n",
    "\n",
    "from sklearn.model_selection import train_test_split\n",
    "x_train,x_test,y_train,y_test = train_test_split(scaled_X,y,train_size=0.70,stratify = y)\n",
    "x_train.shape,x_test.shape,y_train.shape,y_test.shape"
   ]
  },
  {
   "cell_type": "code",
   "execution_count": 52,
   "id": "3381ff3f-89c5-4ef6-8a5a-6870768ba1e7",
   "metadata": {},
   "outputs": [],
   "source": [
    "from sklearn.linear_model import LogisticRegression\n",
    "classifier = LogisticRegression(class_weight='balanced')"
   ]
  },
  {
   "cell_type": "code",
   "execution_count": 53,
   "id": "ea4a429b-8fce-415e-9058-70a2e864157c",
   "metadata": {},
   "outputs": [
    {
     "name": "stderr",
     "output_type": "stream",
     "text": [
      "C:\\Users\\Madhu\\anaconda3\\lib\\site-packages\\sklearn\\utils\\validation.py:1184: DataConversionWarning: A column-vector y was passed when a 1d array was expected. Please change the shape of y to (n_samples, ), for example using ravel().\n",
      "  y = column_or_1d(y, warn=True)\n"
     ]
    }
   ],
   "source": [
    "classifier.fit(x_train,y_train)\n",
    "predicted_values = classifier.predict(x_test)\n",
    "predicted_proba = classifier.predict_proba(x_test)"
   ]
  },
  {
   "cell_type": "code",
   "execution_count": 54,
   "id": "0823ef18-24ca-4568-a4dc-f054a6228658",
   "metadata": {},
   "outputs": [
    {
     "data": {
      "text/plain": [
       "array([1, 1, 1, 1, 1, 1, 1, 1, 1, 1, 1, 1, 1, 0, 0, 1, 1, 1, 1, 0, 1, 1,\n",
       "       1, 1, 1, 1, 0, 1, 0, 1, 1, 0, 1, 0, 1, 1, 0, 1, 1, 0, 1, 1, 1, 1,\n",
       "       1, 1, 0, 1, 1, 1, 1, 1, 1, 1, 1, 1, 1, 0, 0, 0, 1, 1, 0, 1, 1, 1,\n",
       "       0, 0, 1, 1, 1, 1, 1, 1, 0, 1, 1, 1, 1, 0, 1, 0, 1, 1, 1, 1, 0, 1,\n",
       "       1, 1, 1, 1, 1, 1, 1, 1, 0, 1, 1, 1, 1, 1, 0, 1, 1, 1, 1, 0, 0, 1,\n",
       "       1, 0, 1, 1, 1, 1, 1, 1, 1, 1, 1, 1, 0, 1, 0, 0, 1, 1, 1, 1, 1, 0,\n",
       "       1, 1, 1, 1, 1, 0, 0, 0, 1, 0, 1, 1, 1, 0, 1, 1, 1, 1, 0, 1, 1, 1,\n",
       "       0, 1, 1, 1, 1, 1, 1, 1])"
      ]
     },
     "execution_count": 54,
     "metadata": {},
     "output_type": "execute_result"
    }
   ],
   "source": [
    "predicted_values"
   ]
  },
  {
   "cell_type": "code",
   "execution_count": 55,
   "id": "4aed62c7-aa31-4083-9586-60e6baa924ce",
   "metadata": {},
   "outputs": [
    {
     "data": {
      "text/plain": [
       "array([[26, 27],\n",
       "       [10, 99]], dtype=int64)"
      ]
     },
     "execution_count": 55,
     "metadata": {},
     "output_type": "execute_result"
    }
   ],
   "source": [
    "from sklearn.metrics import confusion_matrix\n",
    "cf = confusion_matrix(y_test,predicted_values)\n",
    "cf"
   ]
  },
  {
   "cell_type": "code",
   "execution_count": 56,
   "id": "05611e2f-09c3-439b-b8da-4339fdb2258a",
   "metadata": {},
   "outputs": [
    {
     "name": "stdout",
     "output_type": "stream",
     "text": [
      "              precision    recall  f1-score   support\n",
      "\n",
      "           0       0.72      0.49      0.58        53\n",
      "           1       0.79      0.91      0.84       109\n",
      "\n",
      "    accuracy                           0.77       162\n",
      "   macro avg       0.75      0.70      0.71       162\n",
      "weighted avg       0.76      0.77      0.76       162\n",
      "\n"
     ]
    }
   ],
   "source": [
    "from sklearn.metrics import classification_report\n",
    "k = classification_report(y_test,predicted_values)\n",
    "print(k)"
   ]
  },
  {
   "cell_type": "markdown",
   "id": "be5382e2-67a7-4955-9411-00207523a14a",
   "metadata": {},
   "source": [
    " * Logistic regression with outliers in data have given 72% accuaracy, whereas without outliers the model gave 78% accuarcy. "
   ]
  },
  {
   "cell_type": "markdown",
   "id": "46350a7d-bc33-4cb0-ae30-8da46fe3c7b0",
   "metadata": {},
   "source": [
    "#### Decision Tree "
   ]
  },
  {
   "cell_type": "code",
   "execution_count": 57,
   "id": "6f2b6e06-9f6e-485e-ae7b-cbb60e8edad4",
   "metadata": {},
   "outputs": [],
   "source": [
    "X=data.drop(columns=[\"loan_status\"])\n",
    "Y=data[[\"loan_status\"]]"
   ]
  },
  {
   "cell_type": "code",
   "execution_count": 58,
   "id": "55e040f9-add8-493a-a246-0088c62aa0c3",
   "metadata": {},
   "outputs": [],
   "source": [
    "from sklearn.preprocessing import StandardScaler\n",
    "scaler = StandardScaler()\n",
    "scaled_x = scaler.fit_transform(X)"
   ]
  },
  {
   "cell_type": "code",
   "execution_count": 59,
   "id": "479d13f0-24ce-4d57-8ec4-703cfe87c512",
   "metadata": {},
   "outputs": [
    {
     "data": {
      "text/plain": [
       "((376, 11), (162, 11), (376, 1), (162, 1))"
      ]
     },
     "execution_count": 59,
     "metadata": {},
     "output_type": "execute_result"
    }
   ],
   "source": [
    "from sklearn.model_selection import train_test_split\n",
    "x_train,x_test,y_train,y_test = train_test_split(scaled_x,y,test_size=0.30,stratify=y,random_state=42)\n",
    "x_train.shape,x_test.shape,y_train.shape,y_test.shape"
   ]
  },
  {
   "cell_type": "code",
   "execution_count": 60,
   "id": "3df348a6-86be-4a80-9fa5-9b87455008c1",
   "metadata": {},
   "outputs": [],
   "source": [
    "from sklearn.tree import DecisionTreeClassifier\n",
    "from sklearn.tree import plot_tree"
   ]
  },
  {
   "cell_type": "code",
   "execution_count": 61,
   "id": "af72730b-a57a-4b3d-af73-471fc56869b3",
   "metadata": {},
   "outputs": [],
   "source": [
    "#Model building\n",
    "decision_tree = DecisionTreeClassifier()\n",
    "\n",
    "decision_tree.fit(x_train,y_train)\n",
    "\n",
    "dt_pred = decision_tree.predict(x_test)\n",
    "dt_pred_train = decision_tree.predict(x_train)"
   ]
  },
  {
   "cell_type": "code",
   "execution_count": 62,
   "id": "bc831dbb-7d7e-4d8c-8d48-f83c1d202225",
   "metadata": {},
   "outputs": [
    {
     "data": {
      "text/plain": [
       "array([[31, 22],\n",
       "       [25, 84]], dtype=int64)"
      ]
     },
     "execution_count": 62,
     "metadata": {},
     "output_type": "execute_result"
    }
   ],
   "source": [
    "from sklearn.metrics import confusion_matrix\n",
    "cfd = confusion_matrix(y_test,dt_pred)\n",
    "cfd"
   ]
  },
  {
   "cell_type": "code",
   "execution_count": 63,
   "id": "527d1949-f8de-4f5d-9b19-a531615d7711",
   "metadata": {},
   "outputs": [
    {
     "name": "stdout",
     "output_type": "stream",
     "text": [
      "              precision    recall  f1-score   support\n",
      "\n",
      "           0       1.00      1.00      1.00       122\n",
      "           1       1.00      1.00      1.00       254\n",
      "\n",
      "    accuracy                           1.00       376\n",
      "   macro avg       1.00      1.00      1.00       376\n",
      "weighted avg       1.00      1.00      1.00       376\n",
      "\n"
     ]
    }
   ],
   "source": [
    "k= classification_report(y_train,dt_pred_train)\n",
    "print(k)"
   ]
  },
  {
   "cell_type": "code",
   "execution_count": 64,
   "id": "07991947-e363-41fa-8c73-d1a9c4749f9b",
   "metadata": {},
   "outputs": [
    {
     "name": "stdout",
     "output_type": "stream",
     "text": [
      "              precision    recall  f1-score   support\n",
      "\n",
      "           0       0.55      0.58      0.57        53\n",
      "           1       0.79      0.77      0.78       109\n",
      "\n",
      "    accuracy                           0.71       162\n",
      "   macro avg       0.67      0.68      0.68       162\n",
      "weighted avg       0.71      0.71      0.71       162\n",
      "\n"
     ]
    }
   ],
   "source": [
    "from sklearn.metrics import classification_report\n",
    "kd = classification_report(y_test,dt_pred)\n",
    "print(kd)"
   ]
  },
  {
   "cell_type": "markdown",
   "id": "376ed830-60ca-437b-8a08-7e2c36d1c7b3",
   "metadata": {},
   "source": [
    "* We can see 30 % difference in accuarcy bof train and test data"
   ]
  },
  {
   "cell_type": "markdown",
   "id": "9f3c5896-a3cb-4362-8135-08577e8c78b2",
   "metadata": {},
   "source": [
    "#### Random Forest model"
   ]
  },
  {
   "cell_type": "code",
   "execution_count": 65,
   "id": "8114f422-3469-420d-92ad-fd0a35913bd9",
   "metadata": {},
   "outputs": [],
   "source": [
    "from sklearn.ensemble import RandomForestClassifier as RFC\n",
    "classifier = RFC()"
   ]
  },
  {
   "cell_type": "code",
   "execution_count": 66,
   "id": "a3e02a3a-6d73-4191-a944-aa00c6c8a113",
   "metadata": {},
   "outputs": [
    {
     "name": "stderr",
     "output_type": "stream",
     "text": [
      "C:\\Users\\Madhu\\anaconda3\\lib\\site-packages\\sklearn\\base.py:1151: DataConversionWarning: A column-vector y was passed when a 1d array was expected. Please change the shape of y to (n_samples,), for example using ravel().\n",
      "  return fit_method(estimator, *args, **kwargs)\n"
     ]
    },
    {
     "data": {
      "text/html": [
       "<style>#sk-container-id-1 {color: black;}#sk-container-id-1 pre{padding: 0;}#sk-container-id-1 div.sk-toggleable {background-color: white;}#sk-container-id-1 label.sk-toggleable__label {cursor: pointer;display: block;width: 100%;margin-bottom: 0;padding: 0.3em;box-sizing: border-box;text-align: center;}#sk-container-id-1 label.sk-toggleable__label-arrow:before {content: \"▸\";float: left;margin-right: 0.25em;color: #696969;}#sk-container-id-1 label.sk-toggleable__label-arrow:hover:before {color: black;}#sk-container-id-1 div.sk-estimator:hover label.sk-toggleable__label-arrow:before {color: black;}#sk-container-id-1 div.sk-toggleable__content {max-height: 0;max-width: 0;overflow: hidden;text-align: left;background-color: #f0f8ff;}#sk-container-id-1 div.sk-toggleable__content pre {margin: 0.2em;color: black;border-radius: 0.25em;background-color: #f0f8ff;}#sk-container-id-1 input.sk-toggleable__control:checked~div.sk-toggleable__content {max-height: 200px;max-width: 100%;overflow: auto;}#sk-container-id-1 input.sk-toggleable__control:checked~label.sk-toggleable__label-arrow:before {content: \"▾\";}#sk-container-id-1 div.sk-estimator input.sk-toggleable__control:checked~label.sk-toggleable__label {background-color: #d4ebff;}#sk-container-id-1 div.sk-label input.sk-toggleable__control:checked~label.sk-toggleable__label {background-color: #d4ebff;}#sk-container-id-1 input.sk-hidden--visually {border: 0;clip: rect(1px 1px 1px 1px);clip: rect(1px, 1px, 1px, 1px);height: 1px;margin: -1px;overflow: hidden;padding: 0;position: absolute;width: 1px;}#sk-container-id-1 div.sk-estimator {font-family: monospace;background-color: #f0f8ff;border: 1px dotted black;border-radius: 0.25em;box-sizing: border-box;margin-bottom: 0.5em;}#sk-container-id-1 div.sk-estimator:hover {background-color: #d4ebff;}#sk-container-id-1 div.sk-parallel-item::after {content: \"\";width: 100%;border-bottom: 1px solid gray;flex-grow: 1;}#sk-container-id-1 div.sk-label:hover label.sk-toggleable__label {background-color: #d4ebff;}#sk-container-id-1 div.sk-serial::before {content: \"\";position: absolute;border-left: 1px solid gray;box-sizing: border-box;top: 0;bottom: 0;left: 50%;z-index: 0;}#sk-container-id-1 div.sk-serial {display: flex;flex-direction: column;align-items: center;background-color: white;padding-right: 0.2em;padding-left: 0.2em;position: relative;}#sk-container-id-1 div.sk-item {position: relative;z-index: 1;}#sk-container-id-1 div.sk-parallel {display: flex;align-items: stretch;justify-content: center;background-color: white;position: relative;}#sk-container-id-1 div.sk-item::before, #sk-container-id-1 div.sk-parallel-item::before {content: \"\";position: absolute;border-left: 1px solid gray;box-sizing: border-box;top: 0;bottom: 0;left: 50%;z-index: -1;}#sk-container-id-1 div.sk-parallel-item {display: flex;flex-direction: column;z-index: 1;position: relative;background-color: white;}#sk-container-id-1 div.sk-parallel-item:first-child::after {align-self: flex-end;width: 50%;}#sk-container-id-1 div.sk-parallel-item:last-child::after {align-self: flex-start;width: 50%;}#sk-container-id-1 div.sk-parallel-item:only-child::after {width: 0;}#sk-container-id-1 div.sk-dashed-wrapped {border: 1px dashed gray;margin: 0 0.4em 0.5em 0.4em;box-sizing: border-box;padding-bottom: 0.4em;background-color: white;}#sk-container-id-1 div.sk-label label {font-family: monospace;font-weight: bold;display: inline-block;line-height: 1.2em;}#sk-container-id-1 div.sk-label-container {text-align: center;}#sk-container-id-1 div.sk-container {/* jupyter's `normalize.less` sets `[hidden] { display: none; }` but bootstrap.min.css set `[hidden] { display: none !important; }` so we also need the `!important` here to be able to override the default hidden behavior on the sphinx rendered scikit-learn.org. See: https://github.com/scikit-learn/scikit-learn/issues/21755 */display: inline-block !important;position: relative;}#sk-container-id-1 div.sk-text-repr-fallback {display: none;}</style><div id=\"sk-container-id-1\" class=\"sk-top-container\"><div class=\"sk-text-repr-fallback\"><pre>RandomForestClassifier()</pre><b>In a Jupyter environment, please rerun this cell to show the HTML representation or trust the notebook. <br />On GitHub, the HTML representation is unable to render, please try loading this page with nbviewer.org.</b></div><div class=\"sk-container\" hidden><div class=\"sk-item\"><div class=\"sk-estimator sk-toggleable\"><input class=\"sk-toggleable__control sk-hidden--visually\" id=\"sk-estimator-id-1\" type=\"checkbox\" checked><label for=\"sk-estimator-id-1\" class=\"sk-toggleable__label sk-toggleable__label-arrow\">RandomForestClassifier</label><div class=\"sk-toggleable__content\"><pre>RandomForestClassifier()</pre></div></div></div></div></div>"
      ],
      "text/plain": [
       "RandomForestClassifier()"
      ]
     },
     "execution_count": 66,
     "metadata": {},
     "output_type": "execute_result"
    }
   ],
   "source": [
    "classifier.fit(x_train,y_train)"
   ]
  },
  {
   "cell_type": "code",
   "execution_count": 67,
   "id": "dd4a8281-a6e7-4170-a3ad-3bfd5d951e33",
   "metadata": {},
   "outputs": [],
   "source": [
    "predicted_values = classifier.predict(x_train)"
   ]
  },
  {
   "cell_type": "code",
   "execution_count": 68,
   "id": "38c46c26-bc18-4565-af7f-6313a17ac717",
   "metadata": {},
   "outputs": [
    {
     "name": "stdout",
     "output_type": "stream",
     "text": [
      "              precision    recall  f1-score   support\n",
      "\n",
      "           0       1.00      1.00      1.00       122\n",
      "           1       1.00      1.00      1.00       254\n",
      "\n",
      "    accuracy                           1.00       376\n",
      "   macro avg       1.00      1.00      1.00       376\n",
      "weighted avg       1.00      1.00      1.00       376\n",
      "\n"
     ]
    }
   ],
   "source": [
    "from sklearn.metrics import classification_report\n",
    "print(classification_report(y_train,predicted_values))"
   ]
  },
  {
   "cell_type": "code",
   "execution_count": 69,
   "id": "3a43bc50-776c-4db9-ad0d-d12b47eff0a3",
   "metadata": {},
   "outputs": [
    {
     "name": "stdout",
     "output_type": "stream",
     "text": [
      "              precision    recall  f1-score   support\n",
      "\n",
      "           0       0.74      0.60      0.67        53\n",
      "           1       0.82      0.90      0.86       109\n",
      "\n",
      "    accuracy                           0.80       162\n",
      "   macro avg       0.78      0.75      0.76       162\n",
      "weighted avg       0.80      0.80      0.80       162\n",
      "\n"
     ]
    }
   ],
   "source": [
    "predicted_values_ts = classifier.predict(x_test)\n",
    "print(classification_report(y_test,predicted_values_ts))"
   ]
  },
  {
   "cell_type": "markdown",
   "id": "67678c75-f25f-4253-8654-f5911c483347",
   "metadata": {},
   "source": [
    "* The random forest model has given us the best accuarcy of 0.80"
   ]
  },
  {
   "cell_type": "code",
   "execution_count": null,
   "id": "0bda9070-1243-4d87-b119-cf3f3b9722e3",
   "metadata": {},
   "outputs": [],
   "source": []
  }
 ],
 "metadata": {
  "kernelspec": {
   "display_name": "Python 3 (ipykernel)",
   "language": "python",
   "name": "python3"
  },
  "language_info": {
   "codemirror_mode": {
    "name": "ipython",
    "version": 3
   },
   "file_extension": ".py",
   "mimetype": "text/x-python",
   "name": "python",
   "nbconvert_exporter": "python",
   "pygments_lexer": "ipython3",
   "version": "3.10.13"
  }
 },
 "nbformat": 4,
 "nbformat_minor": 5
}
